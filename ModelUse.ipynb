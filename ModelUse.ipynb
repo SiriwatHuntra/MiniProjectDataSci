{
 "cells": [
  {
   "cell_type": "code",
   "execution_count": 18,
   "metadata": {},
   "outputs": [
    {
     "name": "stdout",
     "output_type": "stream",
     "text": [
      "[[2, 0, 1, 1, 3, 3, 7, 7, 2, 7, 2]]\n"
     ]
    }
   ],
   "source": [
    "poisionous= ['convex','bruises','close','narrow','black',\n",
    "            'smooth','white'\n",
    "            ,'white','pendant','black', 'scattered']\n",
    "\n",
    "edible= ['convex', 'bruises', 'crowded', 'narrow', 'gray',\n",
    "        'smooth', 'white',\n",
    "        'white', 'large', 'brown', 'numerous']\n",
    "\n",
    "mapping = {\n",
    "    'convex': 2, 'bell': 0, 'sunken': 5, 'flat': 3, 'knobbed': 4, 'conical': 1,\n",
    "    'bruises': 0, 'no': 1,\n",
    "    'close': 0, 'crowded': 1,\n",
    "    'narrow': 1, 'broad': 0,\n",
    "    'black': 0, 'brown': 1, 'gray': 4, 'pink': 7, 'white': 10, 'chocolate': 3, 'purple': 8, 'red': 9, 'buff': 2, 'green': 5, 'yellow': 11, 'orange': 6,\n",
    "    'smooth': 3, 'fibrous': 0, 'silky': 2, 'scaly': 1,\n",
    "    'white': 7, 'gray': 3, 'pink': 5, 'brown': 0, 'buff': 1, 'red': 6, 'orange': 4, 'cinnamon': 2, 'yellow': 8,\n",
    "    'white': 7, 'pink': 5, 'gray': 3, 'buff': 1, 'brown': 0, 'red': 6, 'yellow': 8, 'orange': 4, 'cinnamon': 2,\n",
    "    'pendant': 4, 'evanescent': 0, 'large': 2, 'flaring': 1, 'none': 3,\n",
    "    'black': 0, 'brown': 1, 'purple': 6, 'chocolate': 3, 'white': 7, 'green': 4, 'orange': 5, 'yellow': 8, 'buff': 2,\n",
    "    'scattered': 3, 'numerous': 2, 'abundant': 0, 'several': 4, 'solitary': 5, 'clustered': 1,\n",
    "}\n",
    "\n",
    "data = [[mapping[char] for char in edible]]\n",
    "\n",
    "print(data)\n"
   ]
  },
  {
   "cell_type": "code",
   "execution_count": 19,
   "metadata": {},
   "outputs": [
    {
     "name": "stdout",
     "output_type": "stream",
     "text": [
      "Feature names: ['cap-shape' 'bruises' 'gill-spacing' 'gill-size' 'gill-color'\n",
      " 'stalk-surface-above-ring' 'stalk-color-above-ring'\n",
      " 'stalk-color-below-ring' 'ring-type' 'spore-print-color' 'population']\n",
      "Enjoy Burrying\n"
     ]
    },
    {
     "name": "stderr",
     "output_type": "stream",
     "text": [
      "c:\\ProgramData\\anaconda3\\Lib\\site-packages\\sklearn\\base.py:493: UserWarning: X does not have valid feature names, but StandardScaler was fitted with feature names\n",
      "  warnings.warn(\n"
     ]
    }
   ],
   "source": [
    "import pickle\n",
    "import numpy as np\n",
    "import pandas as pd\n",
    "\n",
    "# Load the model from the file\n",
    "with open('model.pkl', 'rb') as file:\n",
    "    model = pickle.load(file)\n",
    "\n",
    "print(\"Feature names:\", model.feature_names_in_)\n",
    "\n",
    "predictions = model.predict(data)\n",
    "if predictions == 0:\n",
    "    print('Enjoy Eating')\n",
    "else:\n",
    "    print('Enjoy Burrying')"
   ]
  }
 ],
 "metadata": {
  "kernelspec": {
   "display_name": "base",
   "language": "python",
   "name": "python3"
  },
  "language_info": {
   "codemirror_mode": {
    "name": "ipython",
    "version": 3
   },
   "file_extension": ".py",
   "mimetype": "text/x-python",
   "name": "python",
   "nbconvert_exporter": "python",
   "pygments_lexer": "ipython3",
   "version": "3.12.4"
  }
 },
 "nbformat": 4,
 "nbformat_minor": 2
}
