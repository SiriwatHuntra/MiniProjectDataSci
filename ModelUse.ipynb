{
 "cells": [
  {
   "cell_type": "code",
   "execution_count": 1,
   "metadata": {},
   "outputs": [
    {
     "name": "stdout",
     "output_type": "stream",
     "text": [
      "[[0, 1, 7, 0, 0, 0, 0, 3, 0, 1, 3, 3, 7, 7, 4, 1, 2, 2]]\n"
     ]
    }
   ],
   "source": [
    "poisionous= ['convex', 'scaly', 'yellow', 'bruises', 'anise', \"crowded\", \n",
    "              'narrow','black', 'enlarging', 'equal',  'fibrous',  'smooth', \n",
    "              'white', 'white', 'pendant', 'black', 'scattered', 'urban'\n",
    "              ]\n",
    "edible= [\n",
    "    \"bell\", \"scaly\", \"white\", \"bruises\", \"almond\", \"close\", \"broad\",\n",
    "    \"gray\", \"enlarging\", \"club\", \"smooth\", \"smooth\", \"white\", \"white\", \"pendant\",\n",
    "    \"brown\", \"numerous\", \"meadows\"\n",
    "            ]\n",
    "mapping = {\n",
    "    'convex': 2, 'bell': 0, 'sunken': 5, 'flat': 3, 'knobbed': 4, 'conical': 1,\n",
    "    'smooth': 3, 'scaly': 2, 'fibrous': 0, 'grooves': 1,\n",
    "    'brown': 0, 'yellow': 9, 'white': 8, 'gray': 3, 'red': 7, 'pink': 5, 'buff': 1, 'purple': 6, 'cinnamon': 2, 'green': 4,\n",
    "    'bruises': 0, 'no': 1,\n",
    "    'pungent': 7, 'almond': 0, 'anise': 1, 'none': 6, 'foul': 4, 'creosote': 2, 'fishy': 3, 'spicy': 8, 'musty': 5,\n",
    "    'close': 0, 'crowded': 1,\n",
    "    'narrow': 1, 'broad': 0,\n",
    "    'black': 0, 'brown': 1, 'gray': 4, 'pink': 7, 'white': 10, 'chocolate': 3, 'purple': 8, 'red': 9, 'buff': 2, 'green': 5, 'yellow': 11, 'orange': 6,\n",
    "    'enlarging': 0, 'tapering': 1,\n",
    "    'equal': 2, 'club': 1, 'bulbous': 0, 'rooted': 4, 'missing': 3,\n",
    "    'smooth': 3, 'fibrous': 0, 'silky': 2, 'scaly': 1,\n",
    "    'smooth': 3, 'fibrous': 0, 'scaly': 1, 'silky': 2,\n",
    "    'white': 7, 'gray': 3, 'pink': 5, 'brown': 0, 'buff': 1, 'red': 6, 'orange': 4, 'cinnamon': 2, 'yellow': 8,\n",
    "    'white': 7, 'pink': 5, 'gray': 3, 'buff': 1, 'brown': 0, 'red': 6, 'yellow': 8, 'orange': 4, 'cinnamon': 2,\n",
    "    'pendant': 4, 'evanescent': 0, 'large': 2, 'flaring': 1, 'none': 3,\n",
    "    'black': 0, 'brown': 1, 'purple': 6, 'chocolate': 3, 'white': 7, 'green': 4, 'orange': 5, 'yellow': 8, 'buff': 2,\n",
    "    'scattered': 3, 'numerous': 2, 'abundant': 0, 'several': 4, 'solitary': 5, 'clustered': 1,\n",
    "    'urban': 4, 'grasses': 0, 'meadows': 2, 'woods': 6, 'paths': 3, 'waste': 5, 'leaves': 1\n",
    "}\n",
    "\n",
    "data = [[mapping[char] for char in edible]]\n",
    "\n",
    "print(data)\n"
   ]
  },
  {
   "cell_type": "code",
   "execution_count": 2,
   "metadata": {},
   "outputs": [
    {
     "name": "stdout",
     "output_type": "stream",
     "text": [
      "Feature names: ['cap-shape' 'cap-surface' 'cap-color' 'bruises' 'odor' 'gill-spacing'\n",
      " 'gill-size' 'gill-color' 'stalk-shape' 'stalk-root'\n",
      " 'stalk-surface-above-ring' 'stalk-surface-below-ring'\n",
      " 'stalk-color-above-ring' 'stalk-color-below-ring' 'ring-type'\n",
      " 'spore-print-color' 'population' 'habitat']\n",
      "Enjoy Eating\n"
     ]
    },
    {
     "name": "stderr",
     "output_type": "stream",
     "text": [
      "c:\\ProgramData\\anaconda3\\Lib\\site-packages\\sklearn\\base.py:493: UserWarning: X does not have valid feature names, but StandardScaler was fitted with feature names\n",
      "  warnings.warn(\n"
     ]
    }
   ],
   "source": [
    "import pickle\n",
    "import numpy as np\n",
    "import pandas as pd\n",
    "\n",
    "# Load the model from the file\n",
    "with open('model.pkl', 'rb') as file:\n",
    "    model = pickle.load(file)\n",
    "\n",
    "print(\"Feature names:\", model.feature_names_in_)\n",
    "\n",
    "predictions = model.predict(data)\n",
    "if predictions == 0:\n",
    "    print('Enjoy Eating')\n",
    "else:\n",
    "    print('Enjoy Burrying')"
   ]
  }
 ],
 "metadata": {
  "kernelspec": {
   "display_name": "base",
   "language": "python",
   "name": "python3"
  },
  "language_info": {
   "codemirror_mode": {
    "name": "ipython",
    "version": 3
   },
   "file_extension": ".py",
   "mimetype": "text/x-python",
   "name": "python",
   "nbconvert_exporter": "python",
   "pygments_lexer": "ipython3",
   "version": "3.12.4"
  }
 },
 "nbformat": 4,
 "nbformat_minor": 2
}
