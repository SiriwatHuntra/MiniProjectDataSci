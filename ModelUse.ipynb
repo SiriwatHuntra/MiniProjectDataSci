{
 "cells": [
  {
   "cell_type": "code",
   "execution_count": 51,
   "metadata": {},
   "outputs": [
    {
     "name": "stdout",
     "output_type": "stream",
     "text": [
      "[0]\n"
     ]
    },
    {
     "name": "stderr",
     "output_type": "stream",
     "text": [
      "c:\\ProgramData\\anaconda3\\Lib\\site-packages\\sklearn\\base.py:493: UserWarning: X does not have valid feature names, but StandardScaler was fitted with feature names\n",
      "  warnings.warn(\n"
     ]
    }
   ],
   "source": [
    "import pickle\n",
    "import numpy as np\n",
    "\n",
    "# Example new input data (replace with your actual data)\n",
    "new_data = np.array([[5, 3, 1, 0, 2, 1, 0, 3, 1, 0, 2, 1, 3, 2, 1, 0, 2, 1]])\n",
    "\n",
    "# Load the model from the file\n",
    "with open('model_LR.pkl', 'rb') as file:\n",
    "    model = pickle.load(file)\n",
    "\n",
    "column_transformer = model.named_steps['preprocessor']\n",
    "feature_names = column_transformer.get_feature_names_out()\n",
    "print(feature_names)\n",
    "\n",
    "predictions = model.predict(new_data)\n",
    "print(predictions)\n"
   ]
  }
 ],
 "metadata": {
  "kernelspec": {
   "display_name": "base",
   "language": "python",
   "name": "python3"
  },
  "language_info": {
   "codemirror_mode": {
    "name": "ipython",
    "version": 3
   },
   "file_extension": ".py",
   "mimetype": "text/x-python",
   "name": "python",
   "nbconvert_exporter": "python",
   "pygments_lexer": "ipython3",
   "version": "3.12.4"
  }
 },
 "nbformat": 4,
 "nbformat_minor": 2
}
