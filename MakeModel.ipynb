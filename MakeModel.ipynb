{
 "cells": [
  {
   "cell_type": "markdown",
   "metadata": {},
   "source": [
    "Make model"
   ]
  },
  {
   "cell_type": "markdown",
   "metadata": {},
   "source": [
    "Overview with AI studio Auto-model\n",
    "- Using Cleaned data to make a overview"
   ]
  },
  {
   "cell_type": "markdown",
   "metadata": {},
   "source": [
    "![alt text](ImageResource/AI-overview.png)"
   ]
  },
  {
   "cell_type": "markdown",
   "metadata": {},
   "source": [
    "From overview, select:\n",
    "- general linear model\n",
    "- Decision Tree\n",
    "- Gradient Boost Trees"
   ]
  },
  {
   "cell_type": "code",
   "execution_count": 56,
   "metadata": {},
   "outputs": [],
   "source": [
    "import pandas as pd\n",
    "from sklearn.model_selection import train_test_split, cross_val_score\n",
    "from sklearn.ensemble import RandomForestClassifier\n",
    "from sklearn.tree import DecisionTreeClassifier\n",
    "from sklearn.linear_model import LogisticRegressionCV\n",
    "from sklearn.preprocessing import LabelEncoder, StandardScaler\n",
    "from sklearn.pipeline import Pipeline\n",
    "import matplotlib.pyplot as plt\n",
    "from sklearn.metrics import roc_curve, roc_auc_score\n",
    "from sklearn.metrics import accuracy_score, precision_score, recall_score, f1_score, confusion_matrix, classification_report\n",
    "\n"
   ]
  },
  {
   "cell_type": "code",
   "execution_count": 57,
   "metadata": {},
   "outputs": [],
   "source": [
    "\n",
    "# Load and encode data\n",
    "original_data = pd.read_csv('CleanedData.csv')\n",
    "encode = original_data.apply(LabelEncoder().fit_transform)\n",
    "data = encode#.sample(100, random_state= 42) # Random sampling\n",
    "\n",
    "# Split features and target\n",
    "X = data.drop('class', axis=1)\n",
    "Y = data['class']\n"
   ]
  },
  {
   "cell_type": "code",
   "execution_count": 58,
   "metadata": {},
   "outputs": [],
   "source": [
    "# Split dataset into train and test sets\n",
    "X_train, X_test, y_train, y_test = train_test_split(X, Y, test_size=0.5, random_state=42)\n",
    "\n",
    "# Define pipelines\n",
    "pipeline_RFC = Pipeline([\n",
    "    ('scaler', StandardScaler()),  # Scaling features\n",
    "    ('classifier', RandomForestClassifier(random_state=42))\n",
    "])\n",
    "\n",
    "pipeline_DT = Pipeline([\n",
    "    ('scaler', StandardScaler()),\n",
    "    ('classifier', DecisionTreeClassifier(random_state=42))\n",
    "])\n",
    "\n",
    "pipeline_LR = Pipeline([\n",
    "    ('scaler', StandardScaler()),\n",
    "    ('classifier', LogisticRegressionCV(cv=5, random_state=42, max_iter=1000))\n",
    "])\n",
    "\n",
    "# Train models\n",
    "pipeline_RFC.fit(X_train, y_train)\n",
    "pipeline_DT.fit(X_train, y_train)\n",
    "pipeline_LR.fit(X_train, y_train)\n",
    "\n",
    "# Make predictions\n",
    "preds_RFC = pipeline_RFC.predict(X_test)\n",
    "preds_DT = pipeline_DT.predict(X_test)\n",
    "preds_LR = pipeline_LR.predict(X_test)\n"
   ]
  },
  {
   "cell_type": "code",
   "execution_count": 59,
   "metadata": {},
   "outputs": [
    {
     "name": "stdout",
     "output_type": "stream",
     "text": [
      "\n",
      "Random Forest Classifier Cross-Validation Scores: [0.82584615 0.99753846 1.         1.         0.64778325]\n",
      "Mean CV Score: 0.8942335733232284\n",
      "\n",
      "Decision Tree Classifier Cross-Validation Scores: [0.82953846 0.99753846 1.         1.         0.83251232]\n",
      "Mean CV Score: 0.9319178476695719\n",
      "\n",
      "Logistic Regression Cross-Validation Scores: [0.69969231 0.91015385 0.80553846 0.99569231 0.50307882]\n",
      "Mean CV Score: 0.7828311481621827\n"
     ]
    }
   ],
   "source": [
    "from sklearn.model_selection import cross_val_score\n",
    "\n",
    "# Cross-validation for Random Forest Classifier\n",
    "cv_scores_RFC = cross_val_score(pipeline_RFC, X, Y, cv=5)\n",
    "print(f'\\nRandom Forest Classifier Cross-Validation Scores: {cv_scores_RFC}')\n",
    "print(f'Mean CV Score: {cv_scores_RFC.mean()}')\n",
    "\n",
    "# Cross-validation for Decision Tree Classifier\n",
    "cv_scores_DT = cross_val_score(pipeline_DT, X, Y, cv=5)\n",
    "print(f'\\nDecision Tree Classifier Cross-Validation Scores: {cv_scores_DT}')\n",
    "print(f'Mean CV Score: {cv_scores_DT.mean()}')\n",
    "\n",
    "# Cross-validation for Logistic Regression\n",
    "cv_scores_LR = cross_val_score(pipeline_LR, X, Y, cv=5)\n",
    "print(f'\\nLogistic Regression Cross-Validation Scores: {cv_scores_LR}')\n",
    "print(f'Mean CV Score: {cv_scores_LR.mean()}')\n"
   ]
  },
  {
   "cell_type": "code",
   "execution_count": 63,
   "metadata": {},
   "outputs": [
    {
     "name": "stdout",
     "output_type": "stream",
     "text": [
      "--- Decision Tree ---\n",
      "Accuracy: 0.9972919743968488\n",
      "Precision: 0.9972931665120249\n",
      "Recall: 0.9972919743968488\n",
      "F1 Score: 0.9972920261305761\n",
      "Confusion Matrix:\n",
      "[[2078    7]\n",
      " [   4 1973]]\n",
      "Classification Report:\n",
      "              precision    recall  f1-score   support\n",
      "\n",
      "           0       1.00      1.00      1.00      2085\n",
      "           1       1.00      1.00      1.00      1977\n",
      "\n",
      "    accuracy                           1.00      4062\n",
      "   macro avg       1.00      1.00      1.00      4062\n",
      "weighted avg       1.00      1.00      1.00      4062\n",
      "\n",
      "--------------------\n",
      "\n",
      "--- Random Forest ---\n",
      "Accuracy: 0.9982767109798129\n",
      "Precision: 0.9982827911326059\n",
      "Recall: 0.9982767109798129\n",
      "F1 Score: 0.9982767848665149\n",
      "Confusion Matrix:\n",
      "[[2078    7]\n",
      " [   0 1977]]\n",
      "Classification Report:\n",
      "              precision    recall  f1-score   support\n",
      "\n",
      "           0       1.00      1.00      1.00      2085\n",
      "           1       1.00      1.00      1.00      1977\n",
      "\n",
      "    accuracy                           1.00      4062\n",
      "   macro avg       1.00      1.00      1.00      4062\n",
      "weighted avg       1.00      1.00      1.00      4062\n",
      "\n",
      "--------------------\n",
      "\n",
      "--- Logistic Regression ---\n",
      "Accuracy: 0.9325455440669621\n",
      "Precision: 0.9325582747059878\n",
      "Recall: 0.9325455440669621\n",
      "F1 Score: 0.9325374255374123\n",
      "Confusion Matrix:\n",
      "[[1956  129]\n",
      " [ 145 1832]]\n",
      "Classification Report:\n",
      "              precision    recall  f1-score   support\n",
      "\n",
      "           0       0.93      0.94      0.93      2085\n",
      "           1       0.93      0.93      0.93      1977\n",
      "\n",
      "    accuracy                           0.93      4062\n",
      "   macro avg       0.93      0.93      0.93      4062\n",
      "weighted avg       0.93      0.93      0.93      4062\n",
      "\n",
      "--------------------\n",
      "\n"
     ]
    }
   ],
   "source": [
    "def evaluate_model(y_test, preds, model_name):\n",
    "  accuracy = accuracy_score(y_test, preds)\n",
    "  precision = precision_score(y_test, preds, average='weighted')\n",
    "  recall = recall_score(y_test, preds, average='weighted')\n",
    "  f1 = f1_score(y_test, preds, average='weighted')\n",
    "  conf_matrix = confusion_matrix(y_test, preds)\n",
    "  class_report = classification_report(y_test, preds)\n",
    "\n",
    "  print(f\"--- {model_name} ---\")\n",
    "  print(f'Accuracy: {accuracy}')\n",
    "  print(f'Precision: {precision}')\n",
    "  print(f'Recall: {recall}')\n",
    "  print(f'F1 Score: {f1}')\n",
    "  print('Confusion Matrix:')\n",
    "  print(conf_matrix)\n",
    "  print('--------------------\\n')\n",
    "\n",
    "# Evaluate each model and store the metrics\n",
    "evaluate_model(y_test, preds_DT, \"Decision Tree\")\n",
    "evaluate_model(y_test, preds_RFC, \"Random Forest\")\n",
    "evaluate_model(y_test, preds_LR, \"Logistic Regression\")\n"
   ]
  },
  {
   "cell_type": "code",
   "execution_count": 64,
   "metadata": {},
   "outputs": [
    {
     "data": {
      "image/png": "[encoded data removed]",
      "text/plain": [
       "<Figure size 800x600 with 1 Axes>"
      ]
     },
     "metadata": {},
     "output_type": "display_data"
    }
   ],
   "source": [
    "# Assuming you have a trained model named 'model' and test data 'X_test'\n",
    "RFC_prob = pipeline_RFC.predict_proba(X_test)[:, 1]\n",
    "RFC_fpr, RFC_tpr, RFC_thresholds = roc_curve(y_test, RFC_prob)\n",
    "RFC_auc = roc_auc_score(y_test, RFC_prob)\n",
    "\n",
    "plt.figure(figsize=(8, 6))\n",
    "plt.plot(RFC_fpr, RFC_tpr, color='darkorange', label='ROC curve (area = {:.2f})'.format(RFC_auc))\n",
    "plt.plot([0, 1], [0, 1], color='navy', linestyle='--')\n",
    "plt.xlim([0.0, 1.0])\n",
    "plt.ylim([0.0, 1.05])\n",
    "plt.xlabel('False Positive Rate')\n",
    "plt.ylabel('True Positive Rate')\n",
    "plt.title('Receiver Operating Characteristic (ROC) Curve')\n",
    "plt.legend(loc='lower right')\n",
    "plt.show()"
   ]
  },
  {
   "cell_type": "markdown",
   "metadata": {},
   "source": [
    "In case of data greater than 1000, rmse and r2 will nearly to be 0.00"
   ]
  },
  {
   "cell_type": "code",
   "execution_count": 65,
   "metadata": {},
   "outputs": [],
   "source": [
    "import pickle\n",
    "\n",
    "with open('model_LR.pkl', 'wb') as f:\n",
    "    pickle.dump(pipeline_LR, f)"
   ]
  }
 ],
 "metadata": {
  "kernelspec": {
   "display_name": "base",
   "language": "python",
   "name": "python3"
  },
  "language_info": {
   "codemirror_mode": {
    "name": "ipython",
    "version": 3
   },
   "file_extension": ".py",
   "mimetype": "text/x-python",
   "name": "python",
   "nbconvert_exporter": "python",
   "pygments_lexer": "ipython3",
   "version": "3.12.4"
  }
 },
 "nbformat": 4,
 "nbformat_minor": 2
}
