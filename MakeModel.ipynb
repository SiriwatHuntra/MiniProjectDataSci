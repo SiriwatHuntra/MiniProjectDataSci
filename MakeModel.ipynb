{
 "cells": [
  {
   "cell_type": "markdown",
   "metadata": {},
   "source": [
    "Make model"
   ]
  },
  {
   "cell_type": "markdown",
   "metadata": {},
   "source": [
    "Overview with AI studio Auto-model\n",
    "- Using Cleaned data to make a overview"
   ]
  },
  {
   "cell_type": "markdown",
   "metadata": {},
   "source": [
    "![alt text](ImageResource/AI-overview.png)"
   ]
  },
  {
   "cell_type": "markdown",
   "metadata": {},
   "source": [
    "From overview, select:\n",
    "- general linear model\n",
    "- Decision Tree\n",
    "- Gradient Boost Trees"
   ]
  },
  {
   "cell_type": "markdown",
   "metadata": {},
   "source": [
    "Generalize Linear model"
   ]
  },
  {
   "cell_type": "code",
   "execution_count": 65,
   "metadata": {},
   "outputs": [
    {
     "name": "stdout",
     "output_type": "stream",
     "text": [
      "--- Decision Tree ---\n",
      "Accuracy: 0.96\n",
      "Precision: 0.9628571428571427\n",
      "Recall: 0.96\n",
      "F1 Score: 0.9598711755233496\n",
      "              precision    recall  f1-score   support\n",
      "\n",
      "           0       1.00      0.92      0.96        24\n",
      "           1       0.93      1.00      0.96        26\n",
      "\n",
      "    accuracy                           0.96        50\n",
      "   macro avg       0.96      0.96      0.96        50\n",
      "weighted avg       0.96      0.96      0.96        50\n",
      "\n",
      "--- Random Forest ---\n",
      "Accuracy: 0.92\n",
      "Precision: 0.9229487179487179\n",
      "Recall: 0.92\n",
      "F1 Score: 0.92\n",
      "              precision    recall  f1-score   support\n",
      "\n",
      "           0       0.88      0.96      0.92        24\n",
      "           1       0.96      0.88      0.92        26\n",
      "\n",
      "    accuracy                           0.92        50\n",
      "   macro avg       0.92      0.92      0.92        50\n",
      "weighted avg       0.92      0.92      0.92        50\n",
      "\n",
      "--- Logistic Regression ---\n",
      "Accuracy: 0.88\n",
      "Precision: 0.8820779220779221\n",
      "Recall: 0.88\n",
      "F1 Score: 0.8796135265700482\n",
      "              precision    recall  f1-score   support\n",
      "\n",
      "           0       0.91      0.83      0.87        24\n",
      "           1       0.86      0.92      0.89        26\n",
      "\n",
      "    accuracy                           0.88        50\n",
      "   macro avg       0.88      0.88      0.88        50\n",
      "weighted avg       0.88      0.88      0.88        50\n",
      "\n"
     ]
    }
   ],
   "source": [
    "import pandas as pd\n",
    "from sklearn.model_selection import train_test_split, cross_val_score\n",
    "from sklearn.ensemble import RandomForestClassifier\n",
    "from sklearn.tree import DecisionTreeClassifier\n",
    "from sklearn.linear_model import LogisticRegressionCV\n",
    "from sklearn.preprocessing import LabelEncoder, StandardScaler\n",
    "from sklearn.pipeline import Pipeline\n",
    "from sklearn.metrics import accuracy_score, precision_score, recall_score, f1_score, classification_report\n",
    "\n",
    "# Load and encode data\n",
    "original_data = pd.read_csv('CleanedData.csv')\n",
    "encode = original_data.apply(LabelEncoder().fit_transform)\n",
    "data = encode.sample(100)  # Random sampling\n",
    "\n",
    "# Split features and target\n",
    "X = data.drop('class', axis=1)\n",
    "Y = data['class']\n",
    "\n",
    "# Split dataset into train and test sets\n",
    "X_train, X_test, y_train, y_test = train_test_split(X, Y, test_size=0.5, random_state=42)\n",
    "\n",
    "# Define pipelines\n",
    "pipeline_RFC = Pipeline([\n",
    "    ('scaler', StandardScaler()),  # Scaling features\n",
    "    ('classifier', RandomForestClassifier(random_state=42))\n",
    "])\n",
    "\n",
    "pipeline_DT = Pipeline([\n",
    "    ('scaler', StandardScaler()),\n",
    "    ('classifier', DecisionTreeClassifier(random_state=42))\n",
    "])\n",
    "\n",
    "pipeline_LR = Pipeline([\n",
    "    ('scaler', StandardScaler()),\n",
    "    ('classifier', LogisticRegressionCV(cv=5, random_state=42, max_iter=1000))\n",
    "])\n",
    "\n",
    "# Train models\n",
    "pipeline_RFC.fit(X_train, y_train)\n",
    "pipeline_DT.fit(X_train, y_train)\n",
    "pipeline_LR.fit(X_train, y_train)\n",
    "\n",
    "# Make predictions\n",
    "preds_RFC = pipeline_RFC.predict(X_test)\n",
    "preds_DT = pipeline_DT.predict(X_test)\n",
    "preds_LR = pipeline_LR.predict(X_test)\n",
    "\n",
    "# Evaluate models using classification metrics\n",
    "def evaluate_model(y_test, preds, model_name):\n",
    "    print(f\"--- {model_name} ---\")\n",
    "    print(f\"Accuracy: {accuracy_score(y_test, preds)}\")\n",
    "    print(f\"Precision: {precision_score(y_test, preds, average='weighted')}\")\n",
    "    print(f\"Recall: {recall_score(y_test, preds, average='weighted')}\")\n",
    "    print(f\"F1 Score: {f1_score(y_test, preds, average='weighted')}\")\n",
    "    print(classification_report(y_test, preds))\n",
    "\n",
    "# Evaluate each model\n",
    "evaluate_model(y_test, preds_DT, \"Decision Tree\")\n",
    "evaluate_model(y_test, preds_RFC, \"Random Forest\")\n",
    "evaluate_model(y_test, preds_LR, \"Logistic Regression\")\n"
   ]
  },
  {
   "cell_type": "markdown",
   "metadata": {},
   "source": [
    "In case of data greater than 1000, rmse and r2 will nearly to be 0.00"
   ]
  },
  {
   "cell_type": "code",
   "execution_count": 66,
   "metadata": {},
   "outputs": [],
   "source": [
    "import pickle\n",
    "\n",
    "with open('model_LR.pkl', 'wb') as f:\n",
    "    pickle.dump(pipeline_LR, f)"
   ]
  },
  {
   "cell_type": "code",
   "execution_count": 81,
   "metadata": {},
   "outputs": [
    {
     "name": "stdout",
     "output_type": "stream",
     "text": [
      "Header: class, [['poisonous' 'edible'], [1 0]]\n",
      "Header: cap-shape, [['convex' 'bell' 'sunken' 'flat' 'knobbed' 'conical'], [2 0 5 3 4 1]]\n",
      "Header: cap-surface, [['smooth' 'scaly' 'fibrous' 'grooves'], [3 2 0 1]]\n",
      "Header: cap-color, [['brown' 'yellow' 'white' 'gray' 'red' 'pink' 'buff' 'purple' 'cinnamon'\n",
      " 'green'], [0 9 8 3 7 5 1 6 2 4]]\n",
      "Header: bruises, [['bruises' 'no'], [0 1]]\n",
      "Header: odor, [['pungent' 'almond' 'anise' 'none' 'foul' 'creosote' 'fishy' 'spicy'\n",
      " 'musty'], [7 0 1 6 4 2 3 8 5]]\n",
      "Header: gill-spacing, [['close' 'crowded'], [0 1]]\n",
      "Header: gill-size, [['narrow' 'broad'], [1 0]]\n",
      "Header: gill-color, [['black' 'brown' 'gray' 'pink' 'white' 'chocolate' 'purple' 'red' 'buff'\n",
      " 'green' 'yellow' 'orange'], [ 0  1  4  7 10  3  8  9  2  5 11  6]]\n",
      "Header: stalk-shape, [['enlarging' 'tapering'], [0 1]]\n",
      "Header: stalk-root, [['equal' 'club' 'bulbous' 'rooted' 'missing'], [2 1 0 4 3]]\n",
      "Header: stalk-surface-above-ring, [['smooth' 'fibrous' 'silky' 'scaly'], [3 0 2 1]]\n",
      "Header: stalk-surface-below-ring, [['smooth' 'fibrous' 'scaly' 'silky'], [3 0 1 2]]\n",
      "Header: stalk-color-above-ring, [['white' 'gray' 'pink' 'brown' 'buff' 'red' 'orange' 'cinnamon' 'yellow'], [7 3 5 0 1 6 4 2 8]]\n",
      "Header: stalk-color-below-ring, [['white' 'pink' 'gray' 'buff' 'brown' 'red' 'yellow' 'orange' 'cinnamon'], [7 5 3 1 0 6 8 4 2]]\n",
      "Header: ring-type, [['pendant' 'evanescent' 'large' 'flaring' 'none'], [4 0 2 1 3]]\n",
      "Header: spore-print-color, [['black' 'brown' 'purple' 'chocolate' 'white' 'green' 'orange' 'yellow'\n",
      " 'buff'], [0 1 6 3 7 4 5 8 2]]\n",
      "Header: population, [['scattered' 'numerous' 'abundant' 'several' 'solitary' 'clustered'], [3 2 0 4 5 1]]\n",
      "Header: habitat, [['urban' 'grasses' 'meadows' 'woods' 'paths' 'waste' 'leaves'], [4 0 2 6 3 5 1]]\n"
     ]
    }
   ],
   "source": [
    "# Get column names\n",
    "original_data = pd.read_csv('CleanedData.csv')\n",
    "headers = original_data.head()\n",
    "\n",
    "\n",
    "# Get number of columns (attributes)\n",
    "for hd in headers:\n",
    "    print(f\"Header: {hd}, [{original_data[hd].unique()}, {encode[hd].unique()}]\")"
   ]
  }
 ],
 "metadata": {
  "kernelspec": {
   "display_name": "base",
   "language": "python",
   "name": "python3"
  },
  "language_info": {
   "codemirror_mode": {
    "name": "ipython",
    "version": 3
   },
   "file_extension": ".py",
   "mimetype": "text/x-python",
   "name": "python",
   "nbconvert_exporter": "python",
   "pygments_lexer": "ipython3",
   "version": "3.12.4"
  }
 },
 "nbformat": 4,
 "nbformat_minor": 2
}
