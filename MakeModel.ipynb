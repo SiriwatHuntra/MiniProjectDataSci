{
 "cells": [
  {
   "cell_type": "markdown",
   "metadata": {},
   "source": [
    "Make model"
   ]
  },
  {
   "cell_type": "markdown",
   "metadata": {},
   "source": [
    "Overview with AI studio Auto-model\n",
    "- Using Cleaned data to make a overview"
   ]
  },
  {
   "cell_type": "markdown",
   "metadata": {},
   "source": [
    "![alt text](ImageResource/AI-overview.png)"
   ]
  },
  {
   "cell_type": "markdown",
   "metadata": {},
   "source": [
    "From overview, select:\n",
    "- general linear model\n",
    "- Decision Tree\n",
    "- Gradient Boost Trees"
   ]
  },
  {
   "cell_type": "markdown",
   "metadata": {},
   "source": [
    "Generalize Linear model"
   ]
  },
  {
   "cell_type": "code",
   "execution_count": 11,
   "metadata": {},
   "outputs": [],
   "source": [
    "import pandas as pd\n",
    "from sklearn.model_selection import train_test_split\n",
    "from sklearn.ensemble import RandomForestClassifier\n",
    "from sklearn.metrics import mean_squared_error, r2_score\n",
    "from sklearn.preprocessing import LabelEncoder\n",
    "from sklearn.tree import DecisionTreeClassifier\n",
    "from sklearn.linear_model import LogisticRegressionCV\n",
    "\n",
    "data = pd.read_csv('CleanedData.csv')\n",
    "data = data.apply(LabelEncoder().fit_transform)\n",
    "data = data.sample(100)\n",
    " \n",
    "X = data.drop('class', axis= 1)\n",
    "Y = data['class']\n",
    "\n",
    "\n"
   ]
  },
  {
   "cell_type": "markdown",
   "metadata": {},
   "source": [
    "In case of data greater than 1000, rmse and r2 will nearly to be 0.00"
   ]
  },
  {
   "cell_type": "code",
   "execution_count": 12,
   "metadata": {},
   "outputs": [
    {
     "name": "stdout",
     "output_type": "stream",
     "text": [
      "DT RMSE: 0.08, R2: 0.6753246753246753\n",
      "RFC RMSE: 0.06, R2: 0.7564935064935066\n",
      "LR RMSE: 0.08, R2: 0.6753246753246753\n"
     ]
    }
   ],
   "source": [
    "X_train,X_test,y_train,y_test = train_test_split(X, Y, test_size = 0.5, random_state = 42)\n",
    "\n",
    "model_RFC = RandomForestClassifier(random_state = 42)\n",
    "model_DT = DecisionTreeClassifier(random_state=42)\n",
    "model_LR = DecisionTreeClassifier(random_state=42)\n",
    "\n",
    "model_RFC.fit(X_train,y_train)\n",
    "model_DT.fit(X_train, y_train)\n",
    "model_LR.fit(X_train, y_train)\n",
    "\n",
    "preds_RFC = model_RFC.predict(X_test)\n",
    "preds_DT = model_DT.predict(X_test)\n",
    "preds_LR = model_LR.predict(X_test)\n",
    "\n",
    "rmse, r2 = mean_squared_error(y_test, preds_DT), r2_score(y_test, preds_DT)\n",
    "print(f'DT RMSE: {rmse}, R2: {r2}')\n",
    "\n",
    "rmse, r2 = mean_squared_error(y_test, preds_RFC), r2_score(y_test, preds_RFC)\n",
    "print(f'RFC RMSE: {rmse}, R2: {r2}')\n",
    "\n",
    "rmse, r2 = mean_squared_error(y_test, preds_LR), r2_score(y_test, preds_LR)\n",
    "print(f'LR RMSE: {rmse}, R2: {r2}')\n"
   ]
  },
  {
   "cell_type": "code",
   "execution_count": null,
   "metadata": {},
   "outputs": [],
   "source": [
    "import joblib\n",
    "\n",
    "joblib.dump(model_LR, 'model.h5')"
   ]
  }
 ],
 "metadata": {
  "kernelspec": {
   "display_name": "base",
   "language": "python",
   "name": "python3"
  },
  "language_info": {
   "codemirror_mode": {
    "name": "ipython",
    "version": 3
   },
   "file_extension": ".py",
   "mimetype": "text/x-python",
   "name": "python",
   "nbconvert_exporter": "python",
   "pygments_lexer": "ipython3",
   "version": "3.12.4"
  }
 },
 "nbformat": 4,
 "nbformat_minor": 2
}
