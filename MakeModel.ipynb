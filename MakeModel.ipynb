{
 "cells": [
  {
   "cell_type": "markdown",
   "metadata": {},
   "source": [
    "Make model"
   ]
  },
  {
   "cell_type": "markdown",
   "metadata": {},
   "source": [
    "Overview with AI studio Auto-model\n",
    "- Using Cleaned data to make a overview"
   ]
  },
  {
   "cell_type": "markdown",
   "metadata": {},
   "source": [
    "![alt text](ImageResource/AI-overview.png)"
   ]
  },
  {
   "cell_type": "markdown",
   "metadata": {},
   "source": [
    "From overview, select:\n",
    "- general linear model\n",
    "- Decision Tree\n",
    "- Gradient Boost Trees"
   ]
  },
  {
   "cell_type": "markdown",
   "metadata": {},
   "source": [
    "Generalize Linear model"
   ]
  },
  {
   "cell_type": "code",
   "execution_count": 25,
   "metadata": {},
   "outputs": [
    {
     "name": "stdout",
     "output_type": "stream",
     "text": [
      "--- Decision Tree ---\n",
      "Accuracy: 0.98\n",
      "Precision: 0.9807692307692308\n",
      "Recall: 0.98\n",
      "F1 Score: 0.9799919967987194\n",
      "              precision    recall  f1-score   support\n",
      "\n",
      "           0       0.96      1.00      0.98        25\n",
      "           1       1.00      0.96      0.98        25\n",
      "\n",
      "    accuracy                           0.98        50\n",
      "   macro avg       0.98      0.98      0.98        50\n",
      "weighted avg       0.98      0.98      0.98        50\n",
      "\n",
      "--- Random Forest ---\n",
      "Accuracy: 0.94\n",
      "Precision: 0.9407051282051282\n",
      "Recall: 0.94\n",
      "F1 Score: 0.9399759903961583\n",
      "              precision    recall  f1-score   support\n",
      "\n",
      "           0       0.96      0.92      0.94        25\n",
      "           1       0.92      0.96      0.94        25\n",
      "\n",
      "    accuracy                           0.94        50\n",
      "   macro avg       0.94      0.94      0.94        50\n",
      "weighted avg       0.94      0.94      0.94        50\n",
      "\n",
      "--- Logistic Regression ---\n",
      "Accuracy: 0.88\n",
      "Precision: 0.8824476650563607\n",
      "Recall: 0.88\n",
      "F1 Score: 0.8798076923076923\n",
      "              precision    recall  f1-score   support\n",
      "\n",
      "           0       0.91      0.84      0.88        25\n",
      "           1       0.85      0.92      0.88        25\n",
      "\n",
      "    accuracy                           0.88        50\n",
      "   macro avg       0.88      0.88      0.88        50\n",
      "weighted avg       0.88      0.88      0.88        50\n",
      "\n"
     ]
    }
   ],
   "source": [
    "import pandas as pd\n",
    "from sklearn.model_selection import train_test_split, cross_val_score\n",
    "from sklearn.ensemble import RandomForestClassifier\n",
    "from sklearn.tree import DecisionTreeClassifier\n",
    "from sklearn.linear_model import LogisticRegressionCV\n",
    "from sklearn.preprocessing import LabelEncoder, StandardScaler\n",
    "from sklearn.pipeline import Pipeline\n",
    "from sklearn.metrics import accuracy_score, precision_score, recall_score, f1_score, classification_report\n",
    "\n",
    "# Load and encode data\n",
    "data = pd.read_csv('CleanedData.csv')\n",
    "data = data.apply(LabelEncoder().fit_transform)\n",
    "data = data.sample(100)  # Random sampling\n",
    "\n",
    "# Split features and target\n",
    "X = data.drop('class', axis=1)\n",
    "Y = data['class']\n",
    "\n",
    "# Split dataset into train and test sets\n",
    "X_train, X_test, y_train, y_test = train_test_split(X, Y, test_size=0.5, random_state=42)\n",
    "\n",
    "# Define pipelines\n",
    "pipeline_RFC = Pipeline([\n",
    "    ('scaler', StandardScaler()),  # Scaling features\n",
    "    ('classifier', RandomForestClassifier(random_state=42))\n",
    "])\n",
    "\n",
    "pipeline_DT = Pipeline([\n",
    "    ('scaler', StandardScaler()),\n",
    "    ('classifier', DecisionTreeClassifier(random_state=42))\n",
    "])\n",
    "\n",
    "pipeline_LR = Pipeline([\n",
    "    ('scaler', StandardScaler()),\n",
    "    ('classifier', LogisticRegressionCV(cv=5, random_state=42, max_iter=1000))\n",
    "])\n",
    "\n",
    "# Train models\n",
    "pipeline_RFC.fit(X_train, y_train)\n",
    "pipeline_DT.fit(X_train, y_train)\n",
    "pipeline_LR.fit(X_train, y_train)\n",
    "\n",
    "# Make predictions\n",
    "preds_RFC = pipeline_RFC.predict(X_test)\n",
    "preds_DT = pipeline_DT.predict(X_test)\n",
    "preds_LR = pipeline_LR.predict(X_test)\n",
    "\n",
    "# Evaluate models using classification metrics\n",
    "def evaluate_model(y_test, preds, model_name):\n",
    "    print(f\"--- {model_name} ---\")\n",
    "    print(f\"Accuracy: {accuracy_score(y_test, preds)}\")\n",
    "    print(f\"Precision: {precision_score(y_test, preds, average='weighted')}\")\n",
    "    print(f\"Recall: {recall_score(y_test, preds, average='weighted')}\")\n",
    "    print(f\"F1 Score: {f1_score(y_test, preds, average='weighted')}\")\n",
    "    print(classification_report(y_test, preds))\n",
    "\n",
    "# Evaluate each model\n",
    "evaluate_model(y_test, preds_DT, \"Decision Tree\")\n",
    "evaluate_model(y_test, preds_RFC, \"Random Forest\")\n",
    "evaluate_model(y_test, preds_LR, \"Logistic Regression\")\n"
   ]
  },
  {
   "cell_type": "markdown",
   "metadata": {},
   "source": [
    "In case of data greater than 1000, rmse and r2 will nearly to be 0.00"
   ]
  },
  {
   "cell_type": "code",
   "execution_count": 26,
   "metadata": {},
   "outputs": [],
   "source": [
    "import pickle\n",
    "\n",
    "with open('model_LR.pkl', 'wb') as f:\n",
    "    pickle.dump(pipeline_LR, f)"
   ]
  }
 ],
 "metadata": {
  "kernelspec": {
   "display_name": "base",
   "language": "python",
   "name": "python3"
  },
  "language_info": {
   "codemirror_mode": {
    "name": "ipython",
    "version": 3
   },
   "file_extension": ".py",
   "mimetype": "text/x-python",
   "name": "python",
   "nbconvert_exporter": "python",
   "pygments_lexer": "ipython3",
   "version": "3.12.4"
  }
 },
 "nbformat": 4,
 "nbformat_minor": 2
}
